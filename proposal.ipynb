{
 "cells": [
  {
   "cell_type": "code",
   "execution_count": 1,
   "metadata": {},
   "outputs": [],
   "source": [
    "import pandas as pd\n",
    "import re"
   ]
  },
  {
   "cell_type": "code",
   "execution_count": 2,
   "metadata": {},
   "outputs": [
    {
     "name": "stdout",
     "output_type": "stream",
     "text": [
      "Original shape: (23917, 9)\n"
     ]
    },
    {
     "data": {
      "text/plain": [
       "(19825, 9)"
      ]
     },
     "execution_count": 2,
     "metadata": {},
     "output_type": "execute_result"
    }
   ],
   "source": [
    "data = pd.read_csv('aviation-accident.csv', na_values=['date unk.', 'unknown', 'Unknown country', '?'])\n",
    "print(f'Original shape: {data.shape}')\n",
    "data.dropna(subset=['date', 'fatalities', 'country'], axis=0, inplace=True)\n",
    "data.shape"
   ]
  },
  {
   "cell_type": "code",
   "execution_count": 3,
   "metadata": {},
   "outputs": [],
   "source": [
    "def toInt(strValue):\n",
    "    try:\n",
    "        intValue = int(strValue)\n",
    "        return intValue\n",
    "    except Exception:\n",
    "        return sum(map(int, re.findall('\\d+', strValue)))"
   ]
  },
  {
   "cell_type": "code",
   "execution_count": 4,
   "metadata": {},
   "outputs": [],
   "source": [
    "data['year'] = data['year'].astype('int64')\n",
    "data['date'] = pd.to_datetime(data['date'], format='%d-%b-%Y', errors='coerce')\n",
    "data['fatalities'] = data['fatalities'].map(toInt)\n",
    "data = data.rename(columns={'cat':'category'})"
   ]
  },
  {
   "cell_type": "code",
   "execution_count": 5,
   "metadata": {},
   "outputs": [
    {
     "data": {
      "text/plain": [
       "date            datetime64[ns]\n",
       "type                    object\n",
       "registration            object\n",
       "operator                object\n",
       "fatalities               int64\n",
       "location                object\n",
       "country                 object\n",
       "category                object\n",
       "year                     int64\n",
       "dtype: object"
      ]
     },
     "execution_count": 5,
     "metadata": {},
     "output_type": "execute_result"
    }
   ],
   "source": [
    "data.dtypes"
   ]
  },
  {
   "cell_type": "code",
   "execution_count": 6,
   "metadata": {},
   "outputs": [
    {
     "data": {
      "text/html": [
       "<div>\n",
       "<style scoped>\n",
       "    .dataframe tbody tr th:only-of-type {\n",
       "        vertical-align: middle;\n",
       "    }\n",
       "\n",
       "    .dataframe tbody tr th {\n",
       "        vertical-align: top;\n",
       "    }\n",
       "\n",
       "    .dataframe thead th {\n",
       "        text-align: right;\n",
       "    }\n",
       "</style>\n",
       "<table border=\"1\" class=\"dataframe\">\n",
       "  <thead>\n",
       "    <tr style=\"text-align: right;\">\n",
       "      <th></th>\n",
       "      <th>date</th>\n",
       "      <th>type</th>\n",
       "      <th>registration</th>\n",
       "      <th>operator</th>\n",
       "      <th>fatalities</th>\n",
       "      <th>location</th>\n",
       "      <th>country</th>\n",
       "      <th>category</th>\n",
       "    </tr>\n",
       "    <tr>\n",
       "      <th>year</th>\n",
       "      <th></th>\n",
       "      <th></th>\n",
       "      <th></th>\n",
       "      <th></th>\n",
       "      <th></th>\n",
       "      <th></th>\n",
       "      <th></th>\n",
       "      <th></th>\n",
       "    </tr>\n",
       "  </thead>\n",
       "  <tbody>\n",
       "    <tr>\n",
       "      <th>1919</th>\n",
       "      <td>1919-08-02</td>\n",
       "      <td>Caproni Ca.48</td>\n",
       "      <td>NaN</td>\n",
       "      <td>Caproni</td>\n",
       "      <td>14</td>\n",
       "      <td>Verona</td>\n",
       "      <td>Italy</td>\n",
       "      <td>A1</td>\n",
       "    </tr>\n",
       "    <tr>\n",
       "      <th>1919</th>\n",
       "      <td>1919-08-11</td>\n",
       "      <td>Felixstowe Fury</td>\n",
       "      <td>N123</td>\n",
       "      <td>RAF</td>\n",
       "      <td>1</td>\n",
       "      <td>near Felixtowe RNAS</td>\n",
       "      <td>U.K.</td>\n",
       "      <td>A1</td>\n",
       "    </tr>\n",
       "    <tr>\n",
       "      <th>1920</th>\n",
       "      <td>1920-02-23</td>\n",
       "      <td>Handley Page O/7</td>\n",
       "      <td>G-EANV</td>\n",
       "      <td>Handley Page Transport</td>\n",
       "      <td>0</td>\n",
       "      <td>Acadia Siding, C...</td>\n",
       "      <td>South Africa</td>\n",
       "      <td>A1</td>\n",
       "    </tr>\n",
       "    <tr>\n",
       "      <th>1920</th>\n",
       "      <td>1920-02-25</td>\n",
       "      <td>Handley Page O/400</td>\n",
       "      <td>G-EAMC</td>\n",
       "      <td>Handley Page Transport</td>\n",
       "      <td>0</td>\n",
       "      <td>near El Shereik</td>\n",
       "      <td>Sudan</td>\n",
       "      <td>A1</td>\n",
       "    </tr>\n",
       "    <tr>\n",
       "      <th>1920</th>\n",
       "      <td>1920-06-30</td>\n",
       "      <td>Handley Page O/400</td>\n",
       "      <td>G-EAKE</td>\n",
       "      <td>Handley Page Transport</td>\n",
       "      <td>0</td>\n",
       "      <td>ÃstanÃ¥</td>\n",
       "      <td>Sweden</td>\n",
       "      <td>A1</td>\n",
       "    </tr>\n",
       "  </tbody>\n",
       "</table>\n",
       "</div>"
      ],
      "text/plain": [
       "           date                type registration                operator  \\\n",
       "year                                                                       \n",
       "1919 1919-08-02       Caproni Ca.48          NaN                 Caproni   \n",
       "1919 1919-08-11     Felixstowe Fury         N123                     RAF   \n",
       "1920 1920-02-23    Handley Page O/7       G-EANV  Handley Page Transport   \n",
       "1920 1920-02-25  Handley Page O/400       G-EAMC  Handley Page Transport   \n",
       "1920 1920-06-30  Handley Page O/400       G-EAKE  Handley Page Transport   \n",
       "\n",
       "      fatalities             location       country category  \n",
       "year                                                          \n",
       "1919          14               Verona         Italy       A1  \n",
       "1919           1  near Felixtowe RNAS          U.K.       A1  \n",
       "1920           0  Acadia Siding, C...  South Africa       A1  \n",
       "1920           0      near El Shereik         Sudan       A1  \n",
       "1920           0             ÃstanÃ¥        Sweden       A1  "
      ]
     },
     "execution_count": 6,
     "metadata": {},
     "output_type": "execute_result"
    }
   ],
   "source": [
    "data = data.set_index(['year'])\n",
    "data.head()"
   ]
  },
  {
   "cell_type": "code",
   "execution_count": null,
   "metadata": {},
   "outputs": [],
   "source": []
  }
 ],
 "metadata": {
  "kernelspec": {
   "display_name": "Python 3",
   "language": "python",
   "name": "python3"
  },
  "language_info": {
   "codemirror_mode": {
    "name": "ipython",
    "version": 3
   },
   "file_extension": ".py",
   "mimetype": "text/x-python",
   "name": "python",
   "nbconvert_exporter": "python",
   "pygments_lexer": "ipython3",
   "version": "3.11.2"
  },
  "orig_nbformat": 4
 },
 "nbformat": 4,
 "nbformat_minor": 2
}
