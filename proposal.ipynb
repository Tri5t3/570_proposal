{
 "cells": [
  {
   "attachments": {},
   "cell_type": "markdown",
   "metadata": {},
   "source": [
    "## Project Code\n",
    "Group Member: Layton Liu, Tommy Kong, Gary Lin\n",
    "\n",
    "Objective: In this project, we will analyze the aviation accident over 1919-2023 and the causing factors behind.\n",
    "\n",
    "Source: https://www.kaggle.com/datasets/warcoder/civil-aviation-accidents"
   ]
  },
  {
   "cell_type": "code",
   "execution_count": 1,
   "metadata": {},
   "outputs": [],
   "source": [
    "import pandas as pd\n",
    "import re\n",
    "import matplotlib.pyplot as plt\n",
    "import numpy as np"
   ]
  },
  {
   "attachments": {},
   "cell_type": "markdown",
   "metadata": {},
   "source": [
    "Since the data contains some incomprehensible value, we need to eliminate them first."
   ]
  },
  {
   "cell_type": "code",
   "execution_count": 2,
   "metadata": {},
   "outputs": [
    {
     "name": "stdout",
     "output_type": "stream",
     "text": [
      "Original shape: (23917, 9)\n"
     ]
    },
    {
     "data": {
      "text/plain": [
       "(19825, 9)"
      ]
     },
     "execution_count": 2,
     "metadata": {},
     "output_type": "execute_result"
    }
   ],
   "source": [
    "naValues = ['date unk.', 'unknown', 'Unknown country', '?']\n",
    "data = pd.read_csv('aviation-accident.csv', na_values=naValues)\n",
    "print(f'Original shape: {data.shape}')\n",
    "data.dropna(subset=['date', 'fatalities', 'country'], axis=0, inplace=True)\n",
    "data.shape"
   ]
  },
  {
   "attachments": {},
   "cell_type": "markdown",
   "metadata": {},
   "source": [
    "The values in \"fatalities\" and \"categories\" are hard to read, thus we developed three functions to help us handle these values. We also developed an extra function to get the \"season\" when the accident happened based on the \"date\". These four functions are shown as follows:"
   ]
  },
  {
   "cell_type": "code",
   "execution_count": 3,
   "metadata": {},
   "outputs": [],
   "source": [
    "def toInt(strValue):\n",
    "    try:\n",
    "        intValue = int(strValue)\n",
    "        return intValue\n",
    "    except Exception:\n",
    "        return sum(map(int, re.findall('\\d+', strValue)))"
   ]
  },
  {
   "cell_type": "code",
   "execution_count": 4,
   "metadata": {},
   "outputs": [],
   "source": [
    "def catDetails(strValue):\n",
    "    accidentCat = {'A': 'Accident', 'I': 'Incident', 'H': 'Hijacking', 'C': 'Criminal Occurrence', 'O': 'Other Occurrence', 'U': 'Unknown'}\n",
    "    convertedValue = ''\n",
    "\n",
    "    convertedValue += accidentCat.get(strValue[0])\n",
    "\n",
    "    return convertedValue\n"
   ]
  },
  {
   "cell_type": "code",
   "execution_count": 5,
   "metadata": {},
   "outputs": [],
   "source": [
    "def damDetails(strValue):\n",
    "    accidentDam = {'1': 'hull-loss', '2': 'repairable damage'}\n",
    "    convertedValue = ''\n",
    "\n",
    "    convertedValue += accidentDam.get(strValue[1])\n",
    "\n",
    "    return convertedValue"
   ]
  },
  {
   "cell_type": "code",
   "execution_count": 6,
   "metadata": {},
   "outputs": [],
   "source": [
    "def getSeason(date):\n",
    "    month = date.month\n",
    "\n",
    "    if month in [3, 4, 5]:\n",
    "        return 'Spring'\n",
    "    elif month in [6, 7, 8]:\n",
    "        return 'Summer'\n",
    "    elif month in [9, 10, 11]:\n",
    "        return 'Fall'\n",
    "    elif month in [12, 1, 2]:\n",
    "        return 'Winter'"
   ]
  },
  {
   "attachments": {},
   "cell_type": "markdown",
   "metadata": {},
   "source": [
    "Before analyzing the data, we organized it to increase readablity."
   ]
  },
  {
   "cell_type": "code",
   "execution_count": 7,
   "metadata": {},
   "outputs": [],
   "source": [
    "data['year'] = data['year'].astype('int64')\n",
    "data['date'] = pd.to_datetime(data['date'], format='%d-%b-%Y', errors='coerce')\n",
    "data['fatalities'] = data['fatalities'].map(toInt)\n",
    "data = data.rename(columns={'cat':'category'})\n",
    "data['damage'] = data['category'].map(damDetails)\n",
    "data['category'] = data['category'].map(catDetails)\n",
    "data['season'] = data['date'].map(getSeason)"
   ]
  },
  {
   "cell_type": "code",
   "execution_count": 8,
   "metadata": {},
   "outputs": [
    {
     "data": {
      "text/html": [
       "<div>\n",
       "<style scoped>\n",
       "    .dataframe tbody tr th:only-of-type {\n",
       "        vertical-align: middle;\n",
       "    }\n",
       "\n",
       "    .dataframe tbody tr th {\n",
       "        vertical-align: top;\n",
       "    }\n",
       "\n",
       "    .dataframe thead th {\n",
       "        text-align: right;\n",
       "    }\n",
       "</style>\n",
       "<table border=\"1\" class=\"dataframe\">\n",
       "  <thead>\n",
       "    <tr style=\"text-align: right;\">\n",
       "      <th></th>\n",
       "      <th>date</th>\n",
       "      <th>type</th>\n",
       "      <th>registration</th>\n",
       "      <th>operator</th>\n",
       "      <th>fatalities</th>\n",
       "      <th>location</th>\n",
       "      <th>country</th>\n",
       "      <th>category</th>\n",
       "      <th>damage</th>\n",
       "      <th>season</th>\n",
       "    </tr>\n",
       "    <tr>\n",
       "      <th>year</th>\n",
       "      <th></th>\n",
       "      <th></th>\n",
       "      <th></th>\n",
       "      <th></th>\n",
       "      <th></th>\n",
       "      <th></th>\n",
       "      <th></th>\n",
       "      <th></th>\n",
       "      <th></th>\n",
       "      <th></th>\n",
       "    </tr>\n",
       "  </thead>\n",
       "  <tbody>\n",
       "    <tr>\n",
       "      <th>1919</th>\n",
       "      <td>1919-08-02</td>\n",
       "      <td>Caproni Ca.48</td>\n",
       "      <td>NaN</td>\n",
       "      <td>Caproni</td>\n",
       "      <td>14</td>\n",
       "      <td>Verona</td>\n",
       "      <td>Italy</td>\n",
       "      <td>Accident</td>\n",
       "      <td>hull-loss</td>\n",
       "      <td>Summer</td>\n",
       "    </tr>\n",
       "    <tr>\n",
       "      <th>1919</th>\n",
       "      <td>1919-08-11</td>\n",
       "      <td>Felixstowe Fury</td>\n",
       "      <td>N123</td>\n",
       "      <td>RAF</td>\n",
       "      <td>1</td>\n",
       "      <td>near Felixtowe RNAS</td>\n",
       "      <td>U.K.</td>\n",
       "      <td>Accident</td>\n",
       "      <td>hull-loss</td>\n",
       "      <td>Summer</td>\n",
       "    </tr>\n",
       "    <tr>\n",
       "      <th>1920</th>\n",
       "      <td>1920-02-23</td>\n",
       "      <td>Handley Page O/7</td>\n",
       "      <td>G-EANV</td>\n",
       "      <td>Handley Page Transport</td>\n",
       "      <td>0</td>\n",
       "      <td>Acadia Siding, C...</td>\n",
       "      <td>South Africa</td>\n",
       "      <td>Accident</td>\n",
       "      <td>hull-loss</td>\n",
       "      <td>Winter</td>\n",
       "    </tr>\n",
       "    <tr>\n",
       "      <th>1920</th>\n",
       "      <td>1920-02-25</td>\n",
       "      <td>Handley Page O/400</td>\n",
       "      <td>G-EAMC</td>\n",
       "      <td>Handley Page Transport</td>\n",
       "      <td>0</td>\n",
       "      <td>near El Shereik</td>\n",
       "      <td>Sudan</td>\n",
       "      <td>Accident</td>\n",
       "      <td>hull-loss</td>\n",
       "      <td>Winter</td>\n",
       "    </tr>\n",
       "    <tr>\n",
       "      <th>1920</th>\n",
       "      <td>1920-06-30</td>\n",
       "      <td>Handley Page O/400</td>\n",
       "      <td>G-EAKE</td>\n",
       "      <td>Handley Page Transport</td>\n",
       "      <td>0</td>\n",
       "      <td>ÃstanÃ¥</td>\n",
       "      <td>Sweden</td>\n",
       "      <td>Accident</td>\n",
       "      <td>hull-loss</td>\n",
       "      <td>Summer</td>\n",
       "    </tr>\n",
       "  </tbody>\n",
       "</table>\n",
       "</div>"
      ],
      "text/plain": [
       "           date                type registration                operator  \\\n",
       "year                                                                       \n",
       "1919 1919-08-02       Caproni Ca.48          NaN                 Caproni   \n",
       "1919 1919-08-11     Felixstowe Fury         N123                     RAF   \n",
       "1920 1920-02-23    Handley Page O/7       G-EANV  Handley Page Transport   \n",
       "1920 1920-02-25  Handley Page O/400       G-EAMC  Handley Page Transport   \n",
       "1920 1920-06-30  Handley Page O/400       G-EAKE  Handley Page Transport   \n",
       "\n",
       "      fatalities             location       country  category     damage  \\\n",
       "year                                                                       \n",
       "1919          14               Verona         Italy  Accident  hull-loss   \n",
       "1919           1  near Felixtowe RNAS          U.K.  Accident  hull-loss   \n",
       "1920           0  Acadia Siding, C...  South Africa  Accident  hull-loss   \n",
       "1920           0      near El Shereik         Sudan  Accident  hull-loss   \n",
       "1920           0             ÃstanÃ¥        Sweden  Accident  hull-loss   \n",
       "\n",
       "      season  \n",
       "year          \n",
       "1919  Summer  \n",
       "1919  Summer  \n",
       "1920  Winter  \n",
       "1920  Winter  \n",
       "1920  Summer  "
      ]
     },
     "execution_count": 8,
     "metadata": {},
     "output_type": "execute_result"
    }
   ],
   "source": [
    "data = data.set_index(['year'])\n",
    "data.head()"
   ]
  },
  {
   "cell_type": "code",
   "execution_count": 9,
   "metadata": {},
   "outputs": [
    {
     "data": {
      "text/plain": [
       "date            datetime64[ns]\n",
       "type                    object\n",
       "registration            object\n",
       "operator                object\n",
       "fatalities               int64\n",
       "location                object\n",
       "country                 object\n",
       "category                object\n",
       "damage                  object\n",
       "season                  object\n",
       "dtype: object"
      ]
     },
     "execution_count": 9,
     "metadata": {},
     "output_type": "execute_result"
    }
   ],
   "source": [
    "data.to_csv('cleaned.csv')\n",
    "data.dtypes"
   ]
  },
  {
   "cell_type": "code",
   "execution_count": 10,
   "metadata": {},
   "outputs": [
    {
     "data": {
      "image/png": "[encoded data removed]",
      "text/plain": [
       "<Figure size 2000x1000 with 1 Axes>"
      ]
     },
     "metadata": {},
     "output_type": "display_data"
    }
   ],
   "source": [
    "fig, ax = plt.subplots(figsize=(20,10))\n",
    "ax.hist(data.index, bins=data.iloc[-1].name-data.iloc[0].name, width=0.8)\n",
    "\n",
    "ax.set_xticks(np.arange(1920, 2023, 5))\n",
    "ax.set_ylim(0, 700)\n",
    "plt.axvspan(1939, 1945, color='grey', alpha=0.5)\n",
    "\n",
    "ax.set_title('Civil Aviation Accidents')\n",
    "ax.spines['top'].set_visible(False)\n",
    "ax.spines['right'].set_visible(False)\n",
    "\n",
    "plt.annotate('WWII', xy=(1939, 500), xytext=(1930, 600), arrowprops={'facecolor':'black',  'arrowstyle':'->'})\n",
    "\n",
    "plt.show()"
   ]
  },
  {
   "cell_type": "code",
   "execution_count": null,
   "metadata": {},
   "outputs": [],
   "source": []
  }
 ],
 "metadata": {
  "kernelspec": {
   "display_name": "base",
   "language": "python",
   "name": "python3"
  },
  "language_info": {
   "codemirror_mode": {
    "name": "ipython",
    "version": 3
   },
   "file_extension": ".py",
   "mimetype": "text/x-python",
   "name": "python",
   "nbconvert_exporter": "python",
   "pygments_lexer": "ipython3",
   "version": "3.9.13"
  },
  "orig_nbformat": 4,
  "vscode": {
   "interpreter": {
    "hash": "1d9ee1aac3f8b9506ea2ef67a21834045ff135a0bf3049555852870718a2d643"
   }
  }
 },
 "nbformat": 4,
 "nbformat_minor": 2
}
